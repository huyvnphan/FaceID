{
 "cells": [
  {
   "cell_type": "markdown",
   "metadata": {},
   "source": [
    "# Preprocess FaceID Dataset"
   ]
  },
  {
   "cell_type": "code",
   "execution_count": null,
   "metadata": {},
   "outputs": [],
   "source": [
    "import os, sys, shutil, requests, zipfile, io, re\n",
    "import matplotlib.pyplot as plt\n",
    "import numpy as np\n",
    "from tqdm import tqdm as pbar\n",
    "from PIL import Image, ImageOps\n",
    "sys.path.insert(0, '/home/huy/Projects/FaceID')"
   ]
  },
  {
   "cell_type": "code",
   "execution_count": null,
   "metadata": {},
   "outputs": [],
   "source": [
    "data_dir = '/data/huy/faceid/'"
   ]
  },
  {
   "cell_type": "markdown",
   "metadata": {},
   "source": [
    "## Download dataset"
   ]
  },
  {
   "cell_type": "markdown",
   "metadata": {},
   "source": [
    "Dataset link http://www.vap.aau.dk/rgb-d-face-database/"
   ]
  },
  {
   "cell_type": "code",
   "execution_count": null,
   "metadata": {},
   "outputs": [],
   "source": [
    "train_url = 'https://rutgers.box.com/shared/static/vfaxy3y1otrvn5dbvbxdg3unmvyun7yg.zip'\n",
    "val_url = 'https://rutgers.box.com/shared/static/smgbvw9v5qemc196072z51x7kwfaxn4b.zip'"
   ]
  },
  {
   "cell_type": "code",
   "execution_count": null,
   "metadata": {},
   "outputs": [],
   "source": [
    "def download(url):\n",
    "    # Streaming, so we can iterate over the response.\n",
    "    r = requests.get(url, stream=True)\n",
    "\n",
    "    # Total size in Mebibyte\n",
    "    total_size = int(r.headers.get('content-length', 0))\n",
    "    block_size = 2**20 # Mebibyte\n",
    "    t = pbar(total=total_size, unit='MiB', unit_scale=True)\n",
    "\n",
    "    header = r.headers['content-disposition']\n",
    "    file_name = re.findall(\"filename\\*=UTF-8\\'\\'(.+)\", header)[0]\n",
    "\n",
    "    with open(file_name, 'wb') as f:\n",
    "        for data in r.iter_content(block_size):\n",
    "            t.update(len(data))\n",
    "            f.write(data)\n",
    "    t.close()\n",
    "\n",
    "    if total_size != 0 and t.n != total_size:\n",
    "        raise Exception('Error, something went wrong')\n",
    "        \n",
    "    print('Download successful. Unzipping ' + file_name)\n",
    "    file_path = os.path.join(os.getcwd(), file_name)\n",
    "    \n",
    "    extract_dir = os.getcwd()\n",
    "    with zipfile.ZipFile(file_path, 'r') as zip_ref:\n",
    "        zip_ref.extractall(extract_dir)\n",
    "        print('Unzip file successful!')"
   ]
  },
  {
   "cell_type": "code",
   "execution_count": null,
   "metadata": {},
   "outputs": [],
   "source": [
    "# download(val_url)"
   ]
  },
  {
   "cell_type": "code",
   "execution_count": null,
   "metadata": {},
   "outputs": [],
   "source": [
    "# download(train_url)"
   ]
  },
  {
   "cell_type": "markdown",
   "metadata": {},
   "source": [
    "## Process data"
   ]
  },
  {
   "cell_type": "code",
   "execution_count": null,
   "metadata": {},
   "outputs": [],
   "source": [
    "def crop_center(img, cropx, cropy):\n",
    "    y,x = img.shape[0], img.shape[1]\n",
    "    startx = x//2-(cropx//2)\n",
    "    starty = y//2-(cropy//2)    \n",
    "    return img[starty:starty+cropy,startx:startx+cropx]"
   ]
  },
  {
   "cell_type": "code",
   "execution_count": null,
   "metadata": {},
   "outputs": [],
   "source": [
    "def process_data(raw_dir, processed_dir):\n",
    "    \"\"\"\n",
    "    Stack RGB and D images to a numpy array of shape 400 x 400 x 4\n",
    "    Save images in format of personID_poseID\n",
    "    \"\"\"    \n",
    "    all_people = [x for x in os.listdir(raw_dir) if '2012' in x]\n",
    "    for person_id, a_person in enumerate(pbar(all_people)):\n",
    "        \n",
    "        all_poses = [x for x in os.listdir(os.path.join(raw_dir, a_person)) if '.bmp' in x]\n",
    "        for pose_id, a_pose in enumerate(all_poses):\n",
    "            photo_id = a_pose[:-5] # drop 'c.bmp'\n",
    "\n",
    "            photo_rgb = photo_id + 'c.bmp'\n",
    "            photo_rgb = Image.open(os.path.join(raw_dir, a_person, photo_rgb))\n",
    "            photo_rgb = np.array(photo_rgb.convert(\"RGB\").resize((640, 480)))\n",
    "\n",
    "            photo_depth = photo_id + 'd.dat'\n",
    "            photo_depth = np.loadtxt(os.path.join(raw_dir, a_person, photo_depth))\n",
    "            photo_depth = photo_depth - photo_depth.min()\n",
    "\n",
    "            # Align RGB and D\n",
    "            photo_depth = np.pad(photo_depth, [(0, 0), (20, 0)], mode='constant')\n",
    "            photo_depth = photo_depth[:,:-20]\n",
    "            photo_depth = np.expand_dims(photo_depth, -1)\n",
    "\n",
    "            # Save to disk\n",
    "            rgbd = np.concatenate((photo_rgb, photo_depth), axis=2)\n",
    "            rgbd = np.uint8(rgbd)\n",
    "            rgbd = crop_center(rgbd, 300, 300)\n",
    "            name = 'person' + str(person_id) + '_pose' + str(pose_id) + '.npy'\n",
    "            np.save(os.path.join(processed_dir, name), rgbd)"
   ]
  },
  {
   "cell_type": "code",
   "execution_count": null,
   "metadata": {},
   "outputs": [],
   "source": [
    "process_data(data_dir + 'train_raw', data_dir + 'train')"
   ]
  },
  {
   "cell_type": "code",
   "execution_count": null,
   "metadata": {},
   "outputs": [],
   "source": [
    "process_data(data_dir + 'val_raw', data_dir + 'val')"
   ]
  },
  {
   "cell_type": "code",
   "execution_count": null,
   "metadata": {},
   "outputs": [],
   "source": [
    "# os.mkdir('train')\n",
    "# process_data('train_raw', 'train')\n",
    "\n",
    "# os.mkdir('val')\n",
    "# process_data('val_raw', 'val')"
   ]
  },
  {
   "cell_type": "code",
   "execution_count": null,
   "metadata": {},
   "outputs": [],
   "source": [
    "# Move data to desire place\n",
    "# os.mkdir(data_dir)\n",
    "# shutil.move('train_raw', data_dir)\n",
    "# shutil.move('val_raw', data_dir)\n",
    "# shutil.move('train', data_dir)\n",
    "# shutil.move('val', data_dir)"
   ]
  },
  {
   "cell_type": "markdown",
   "metadata": {},
   "source": [
    "# Display a test RGBD image"
   ]
  },
  {
   "cell_type": "code",
   "execution_count": null,
   "metadata": {},
   "outputs": [],
   "source": [
    "test_img_path = os.path.join(data_dir, 'val/person1_pose0.npy')\n",
    "test_img = np.load(test_img_path)"
   ]
  },
  {
   "cell_type": "code",
   "execution_count": null,
   "metadata": {},
   "outputs": [],
   "source": [
    "rgb = test_img[:,:,:3]/255.0\n",
    "d = test_img[:,:,3]/255.0"
   ]
  },
  {
   "cell_type": "code",
   "execution_count": null,
   "metadata": {},
   "outputs": [],
   "source": [
    "fig, axs = plt.subplots(1, 3)\n",
    "fig.set_size_inches(20, 60)\n",
    "\n",
    "axs[0].imshow(rgb)\n",
    "axs[1].imshow(d, cmap='jet')\n",
    "axs[2].imshow(rgb)\n",
    "axs[2].imshow(d, cmap='jet', alpha=0.25)\n",
    "\n",
    "plt.show()"
   ]
  },
  {
   "cell_type": "code",
   "execution_count": null,
   "metadata": {},
   "outputs": [],
   "source": []
  }
 ],
 "metadata": {
  "kernelspec": {
   "display_name": "Python [conda env:huy_base] *",
   "language": "python",
   "name": "conda-env-huy_base-py"
  },
  "language_info": {
   "codemirror_mode": {
    "name": "ipython",
    "version": 3
   },
   "file_extension": ".py",
   "mimetype": "text/x-python",
   "name": "python",
   "nbconvert_exporter": "python",
   "pygments_lexer": "ipython3",
   "version": "3.7.7"
  },
  "widgets": {
   "application/vnd.jupyter.widget-state+json": {
    "state": {},
    "version_major": 2,
    "version_minor": 0
   }
  }
 },
 "nbformat": 4,
 "nbformat_minor": 4
}
