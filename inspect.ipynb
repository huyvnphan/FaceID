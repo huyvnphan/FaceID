{
 "cells": [
  {
   "cell_type": "code",
   "execution_count": 1,
   "metadata": {},
   "outputs": [],
   "source": [
    "from main_module import FaceIDModule\n",
    "from data_module import FaceIDDataset, FaceIDDataModule\n",
    "from torch.utils.data import DataLoader\n",
    "from utils.display import display\n",
    "from argparse import ArgumentParser\n",
    "import torch"
   ]
  },
  {
   "cell_type": "code",
   "execution_count": 2,
   "metadata": {},
   "outputs": [],
   "source": [
    "parser = ArgumentParser()\n",
    "\n",
    "# PROGRAM level args\n",
    "parser.add_argument(\"--description\", type=str, default=\"FaceID\")\n",
    "parser.add_argument(\"--data_path\", type=str, default=\"/data/huy/faceid\")\n",
    "parser.add_argument(\"--preprocess_data\", type=int, default=0, choices=[0, 1])\n",
    "\n",
    "# MODULE specific args\n",
    "parser = FaceIDModule.add_model_specific_args(parser)\n",
    "\n",
    "# DATA specific args\n",
    "parser = FaceIDDataModule.add_data_specific_args(parser)\n",
    "\n",
    "# TRAINER args\n",
    "parser.add_argument(\"--dev\", type=int, default=0, choices=[0, 1])\n",
    "parser.add_argument(\"--gpu_id\", type=str, default=\"3\")\n",
    "parser.add_argument(\"--batch_size\", type=int, default=128)\n",
    "parser.add_argument(\"--no_workers\", type=int, default=8)\n",
    "parser.add_argument(\"--max_epochs\", type=int, default=200)\n",
    "parser.add_argument(\"--threshold\", type=float, default=0.75)\n",
    "args = parser.parse_args([])"
   ]
  },
  {
   "cell_type": "code",
   "execution_count": 3,
   "metadata": {},
   "outputs": [],
   "source": [
    "dataset = FaceIDDataset(args, split=\"val\")\n",
    "dataloader = DataLoader(dataset, batch_size=1, shuffle=True)"
   ]
  },
  {
   "cell_type": "code",
   "execution_count": 4,
   "metadata": {},
   "outputs": [],
   "source": [
    "faceid_model = FaceIDModule.load_from_checkpoint(\"checkpoints/faceid_best.ckpt\")\n",
    "faceid_model.eval()\n",
    "faceid_model.freeze()"
   ]
  },
  {
   "cell_type": "code",
   "execution_count": 5,
   "metadata": {},
   "outputs": [],
   "source": [
    "cosine = torch.nn.CosineSimilarity()"
   ]
  },
  {
   "cell_type": "code",
   "execution_count": 6,
   "metadata": {},
   "outputs": [
    {
     "output_type": "error",
     "ename": "NameError",
     "evalue": "name 'x0' is not defined",
     "traceback": [
      "\u001b[0;31m---------------------------------------------------------------------------\u001b[0m",
      "\u001b[0;31mNameError\u001b[0m                                 Traceback (most recent call last)",
      "\u001b[0;32m<ipython-input-6-d28deefecca7>\u001b[0m in \u001b[0;36m<module>\u001b[0;34m\u001b[0m\n\u001b[1;32m      7\u001b[0m \u001b[0mcosine_x\u001b[0m \u001b[0;34m=\u001b[0m \u001b[0mround\u001b[0m\u001b[0;34m(\u001b[0m\u001b[0mcosine\u001b[0m\u001b[0;34m(\u001b[0m\u001b[0membed_x_ref\u001b[0m\u001b[0;34m,\u001b[0m \u001b[0membed_x\u001b[0m\u001b[0;34m)\u001b[0m\u001b[0;34m.\u001b[0m\u001b[0mitem\u001b[0m\u001b[0;34m(\u001b[0m\u001b[0;34m)\u001b[0m\u001b[0;34m,\u001b[0m \u001b[0;36m3\u001b[0m\u001b[0;34m)\u001b[0m\u001b[0;34m\u001b[0m\u001b[0;34m\u001b[0m\u001b[0m\n\u001b[1;32m      8\u001b[0m \u001b[0;34m\u001b[0m\u001b[0m\n\u001b[0;32m----> 9\u001b[0;31m \u001b[0mdisplay\u001b[0m\u001b[0;34m(\u001b[0m\u001b[0mx0\u001b[0m\u001b[0;34m,\u001b[0m \u001b[0mx1\u001b[0m\u001b[0;34m,\u001b[0m \u001b[0mcosine_x\u001b[0m\u001b[0;34m)\u001b[0m\u001b[0;34m\u001b[0m\u001b[0;34m\u001b[0m\u001b[0m\n\u001b[0m",
      "\u001b[0;31mNameError\u001b[0m: name 'x0' is not defined"
     ]
    }
   ],
   "source": [
    "x_ref, x, _ = next(iter(dataloader))\n",
    "\n",
    "with torch.no_grad():\n",
    "    embed_x_ref = faceid_model(x_ref)\n",
    "    embed_x = faceid_model(x)\n",
    "\n",
    "cosine_x = round(cosine(embed_x_ref, embed_x).item(), 3)\n",
    "\n",
    "display(x_ref, x, cosine_x)"
   ]
  },
  {
   "cell_type": "code",
   "execution_count": null,
   "metadata": {},
   "outputs": [],
   "source": []
  },
  {
   "cell_type": "code",
   "execution_count": null,
   "metadata": {},
   "outputs": [],
   "source": []
  }
 ],
 "metadata": {
  "kernelspec": {
   "name": "python3",
   "display_name": "Python 3.7.8 64-bit ('huy_base': conda)",
   "metadata": {
    "interpreter": {
     "hash": "4cbd7459d05f64f1ca1760dd9d54b82a88c75e05219be28ef71f8873996af8d6"
    }
   }
  },
  "language_info": {
   "codemirror_mode": {
    "name": "ipython",
    "version": 3
   },
   "file_extension": ".py",
   "mimetype": "text/x-python",
   "name": "python",
   "nbconvert_exporter": "python",
   "pygments_lexer": "ipython3",
   "version": "3.7.8-final"
  },
  "widgets": {
   "application/vnd.jupyter.widget-state+json": {
    "state": {},
    "version_major": 2,
    "version_minor": 0
   }
  }
 },
 "nbformat": 4,
 "nbformat_minor": 4
}